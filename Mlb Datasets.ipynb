{
  "nbformat": 4,
  "nbformat_minor": 0,
  "metadata": {
    "colab": {
      "private_outputs": true,
      "provenance": [],
      "cell_execution_strategy": "setup",
      "authorship_tag": "ABX9TyN51EcEcCtrNPtPi/eeA8PY",
      "include_colab_link": true
    },
    "kernelspec": {
      "name": "python3",
      "display_name": "Python 3"
    },
    "language_info": {
      "name": "python"
    }
  },
  "cells": [
    {
      "cell_type": "markdown",
      "metadata": {
        "id": "view-in-github",
        "colab_type": "text"
      },
      "source": [
        "<a href=\"https://colab.research.google.com/github/SteeveThomson/Datasets/blob/main/Mlb%20Datasets.ipynb\" target=\"_parent\"><img src=\"https://colab.research.google.com/assets/colab-badge.svg\" alt=\"Open In Colab\"/></a>"
      ]
    },
    {
      "cell_type": "code",
      "execution_count": null,
      "metadata": {
        "id": "EyvxkzTA9WU8"
      },
      "outputs": [],
      "source": [
        "import warnings\n",
        "warnings.filterwarnings(\"ignore\")\n",
        "\n",
        "import numpy as np\n",
        "import pandas as pd\n",
        "import io\n",
        "import requests\n",
        "pd.set_option('display.max_columns', None)\n",
        "\n",
        "###\n",
        "import matplotlib.pyplot as plt\n",
        "import seaborn as sns\n",
        "%matplotlib inline\n",
        "%config InlineBackend.figure_format='retina'\n",
        "plt.style.use(\"seaborn\")\n",
        "###\n"
      ]
    },
    {
      "cell_type": "code",
      "source": [
        "# name of the dataset to be imported from our GitHub account\n",
        "df_name='melbourne_house_prices.csv'"
      ],
      "metadata": {
        "id": "Gne6klp199Gi"
      },
      "execution_count": null,
      "outputs": []
    },
    {
      "cell_type": "code",
      "source": [
        "df_url = f'https://raw.githubusercontent.com/akmand/datasets/master/{df_name}'\n",
        "url_content=requests.get(df_url,verify=False).content\n",
        "melb_df=pd.read_csv(io.StringIO(url_content.decode('utf-8')))"
      ],
      "metadata": {
        "id": "8QYmItFABFJX"
      },
      "execution_count": null,
      "outputs": []
    },
    {
      "cell_type": "code",
      "source": [
        "melb_df.sample(10,random_state=999)"
      ],
      "metadata": {
        "id": "o49Aevg3GWFy"
      },
      "execution_count": null,
      "outputs": []
    },
    {
      "cell_type": "code",
      "source": [
        "from tabulate import tabulate\n",
        "plt.table= 'Name',Data Type','Units','Description']\n",
        "['Suburb',]\n"
      ],
      "metadata": {
        "id": "8d3OqDPTIXIu"
      },
      "execution_count": null,
      "outputs": []
    }
  ]
}